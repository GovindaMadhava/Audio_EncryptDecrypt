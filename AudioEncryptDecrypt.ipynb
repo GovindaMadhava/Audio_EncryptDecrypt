{
 "cells": [
  {
   "cell_type": "code",
   "execution_count": 11,
   "id": "46d7d2b5",
   "metadata": {},
   "outputs": [],
   "source": [
    "'''\n",
    "Below is a python program to encrypt and decrypt any audio file using the cryptography library of python\n",
    "\n",
    "Cryptography is an encryption and decryption lib in python\n",
    "It is a key-based encryption technique, \n",
    "which means it generates a random key and this key is used in encypting and decryptoing data\n",
    "\n",
    "2 major techniques:\n",
    "A) Public key: 2 different keys used at the sender and reciever end to encrypt and decrypt data. Slower than private technique\n",
    "B) Private key: In this method, a single key(symmetric) is used for the encryption and decryption purpose at both the ends. \n",
    "Faster than public key method since one less key to generate and use in the process\n",
    "\n",
    "Installation:\n",
    "pip install cryptography :- to install the cryptography library\n",
    "\n",
    "This program can also be used to encrypt and decrypt images, Word docs, Notepad files by modifying the file extensions appropriately \n",
    "'''\n",
    "\n",
    "#importing fernet module from cryptographyh library -> to generate private keys\n",
    "from cryptography.fernet import Fernet \n",
    "key = Fernet.generate_key() # this is an instance used to generate random private keys. \n",
    "# var key holds the actual value of the generated random private key used for encryption and decryption"
   ]
  },
  {
   "cell_type": "code",
   "execution_count": 12,
   "id": "c7ac5f28",
   "metadata": {},
   "outputs": [],
   "source": [
    "# Encrypting process\n",
    "fernet = Fernet(key) # variable fernet is a pointer to the actual value of the private key\n",
    "\n",
    "with open('key.key','wb') as filekey: # key.key file created which holds the value of private key\n",
    "    filekey.write(key)\n",
    "with open('key.key','rb') as filekey: # reads the keyfile created in the above step\n",
    "    filekey.read()\n",
    "with open('AudioTestFile.mp3','rb') as file: # works for any audio format\n",
    "    originalaudio = file.read() # this var reads data from the audio file which is to be encrypted\n",
    "\n",
    "# create a var which holds the encrypted value. originalaudio is passed as an arg and encrypted using the private key\n",
    "encrypted = fernet.encrypt(originalaudio)\n",
    "# size of encrypted file can be greater!! than the actual file\n",
    "\n",
    "# new file named encryptedFile created. Encrypted data of above audio file written in this file\n",
    "with open('encryptedAudioFile.mp3', 'wb') as encrypted_file: # we are saving the encrypted file as encryptedFile.wav in wav format\n",
    "    encrypted_file.write(encrypted)\n",
    "    \n",
    "# Encrypted file cannot be played. Need to decrypt using the same private Fernet key and then play"
   ]
  },
  {
   "cell_type": "code",
   "execution_count": 13,
   "id": "dcb8b772",
   "metadata": {},
   "outputs": [],
   "source": [
    "# Decryption\n",
    "fernet = Fernet(key) # creating fernet key which actually holds the value of private key\n",
    "\n",
    "with open('encryptedAudioFile.mp3','rb') as enc_file: # reading encrypted audio file and store it in var *encrypted*\n",
    "    encrypted = enc_file.read()\n",
    "\n",
    "# decrypting audio data below using decrypt function from fernet module using the same private key\n",
    "decrypted = fernet.decrypt(encrypted)\n",
    "\n",
    "with open('decryptedAudioFile.mp3','wb') as dec_file: # finally writing decrypted data into  *decryptedFile* in wav format\n",
    "    dec_file.write(decrypted)\n",
    "# size of the decrypted file is exactly the same as the original audio file\n",
    "\n",
    "# even though we run the encrypt and decrypt commands many times, single files created in the destination folder"
   ]
  }
 ],
 "metadata": {
  "kernelspec": {
   "display_name": "Python 3 (ipykernel)",
   "language": "python",
   "name": "python3"
  },
  "language_info": {
   "codemirror_mode": {
    "name": "ipython",
    "version": 3
   },
   "file_extension": ".py",
   "mimetype": "text/x-python",
   "name": "python",
   "nbconvert_exporter": "python",
   "pygments_lexer": "ipython3",
   "version": "3.9.7"
  }
 },
 "nbformat": 4,
 "nbformat_minor": 5
}
